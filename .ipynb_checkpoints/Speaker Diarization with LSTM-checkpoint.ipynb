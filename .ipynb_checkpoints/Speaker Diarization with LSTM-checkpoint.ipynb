{
 "cells": [
  {
   "cell_type": "code",
   "execution_count": 1,
   "metadata": {
    "executionInfo": {
     "elapsed": 610,
     "status": "ok",
     "timestamp": 1644692478375,
     "user": {
      "displayName": "Boktiar Ahmed Bappy",
      "photoUrl": "https://lh3.googleusercontent.com/a-/AOh14Gih6IcON3wMQpvveeS9_REpH6y1XnnZEhx-zhFX=s64",
      "userId": "10381972055342951581"
     },
     "user_tz": -360
    },
    "id": "nohM8NIw0UmY"
   },
   "outputs": [],
   "source": [
    "import os"
   ]
  },
  {
   "cell_type": "code",
   "execution_count": 2,
   "metadata": {
    "colab": {
     "base_uri": "https://localhost:8080/"
    },
    "executionInfo": {
     "elapsed": 4008,
     "status": "ok",
     "timestamp": 1644692484151,
     "user": {
      "displayName": "Boktiar Ahmed Bappy",
      "photoUrl": "https://lh3.googleusercontent.com/a-/AOh14Gih6IcON3wMQpvveeS9_REpH6y1XnnZEhx-zhFX=s64",
      "userId": "10381972055342951581"
     },
     "user_tz": -360
    },
    "id": "AcFhlNzyUXhg",
    "outputId": "f1391a30-5166-46b3-efd0-e326a9bb3d4c"
   },
   "outputs": [
    {
     "name": "stdout",
     "output_type": "stream",
     "text": [
      "C:\\Users\\GIRIRAJ ROY\\Desktop\\Diarization\\Resemblyzer\n"
     ]
    }
   ],
   "source": [
    "# !git clone https://github.com/resemble-ai/Resemblyzer.git\n",
    "%cd Resemblyzer"
   ]
  },
  {
   "cell_type": "code",
   "execution_count": 3,
   "metadata": {
    "colab": {
     "base_uri": "https://localhost:8080/"
    },
    "executionInfo": {
     "elapsed": 596,
     "status": "ok",
     "timestamp": 1644692490829,
     "user": {
      "displayName": "Boktiar Ahmed Bappy",
      "photoUrl": "https://lh3.googleusercontent.com/a-/AOh14Gih6IcON3wMQpvveeS9_REpH6y1XnnZEhx-zhFX=s64",
      "userId": "10381972055342951581"
     },
     "user_tz": -360
    },
    "id": "M-3atOhOUqgC",
    "outputId": "0f7d6cdd-9b51-4478-bc8a-e23381771244",
    "scrolled": true
   },
   "outputs": [
    {
     "name": "stdout",
     "output_type": "stream",
     "text": [
      " Volume in drive C is Windows-SSD\n",
      " Volume Serial Number is AE71-C916\n",
      "\n",
      " Directory of C:\\Users\\GIRIRAJ ROY\\Desktop\\Diarization\\Resemblyzer\n",
      "\n",
      "04-04-2023  10:14    <DIR>          .\n",
      "04-04-2023  10:15    <DIR>          ..\n",
      "04-04-2023  10:14             1,537 .gitignore\n",
      "04-04-2023  10:14    <DIR>          audio_data\n",
      "04-04-2023  10:14             6,994 demo_utils.py\n",
      "04-04-2023  10:14             4,418 demo01_similarity.py\n",
      "04-04-2023  10:14             2,062 demo02_diarization.py\n",
      "04-04-2023  10:14             1,294 demo03_projection.py\n",
      "04-04-2023  10:14             2,989 demo04_clustering.py\n",
      "04-04-2023  10:14             2,928 demo05_fake_speech_detection.py\n",
      "04-04-2023  10:14            10,948 LICENSE\n",
      "04-04-2023  10:14    <DIR>          plots\n",
      "04-04-2023  10:14             5,107 README.md\n",
      "04-04-2023  10:14               136 requirements_demos.txt\n",
      "04-04-2023  10:14                86 requirements_package.txt\n",
      "04-04-2023  10:14    <DIR>          resemblyzer\n",
      "04-04-2023  10:14               911 setup.py\n",
      "              12 File(s)         39,410 bytes\n",
      "               5 Dir(s)  369,004,412,928 bytes free\n"
     ]
    }
   ],
   "source": [
    "ls"
   ]
  },
  {
   "cell_type": "code",
   "execution_count": 4,
   "metadata": {
    "colab": {
     "base_uri": "https://localhost:8080/",
     "height": 870
    },
    "executionInfo": {
     "elapsed": 6906,
     "status": "ok",
     "timestamp": 1644692500505,
     "user": {
      "displayName": "Boktiar Ahmed Bappy",
      "photoUrl": "https://lh3.googleusercontent.com/a-/AOh14Gih6IcON3wMQpvveeS9_REpH6y1XnnZEhx-zhFX=s64",
      "userId": "10381972055342951581"
     },
     "user_tz": -360
    },
    "id": "OwRGQUB8Wt_N",
    "outputId": "3ee1eece-a89c-40c6-8a4f-2fcf55279bbc"
   },
   "outputs": [
    {
     "name": "stdout",
     "output_type": "stream",
     "text": [
      "Collecting librosa>=0.9.1\n",
      "  Downloading librosa-0.10.0.post2-py3-none-any.whl (253 kB)\n",
      "     ---------------------------------------- 0.0/253.0 kB ? eta -:--:--\n",
      "     ---- ---------------------------------- 30.7/253.0 kB 1.3 MB/s eta 0:00:01\n",
      "     -------------- ------------------------ 92.2/253.0 kB 1.1 MB/s eta 0:00:01\n",
      "     -------------------------- ----------- 174.1/253.0 kB 1.2 MB/s eta 0:00:01\n",
      "     -------------------------------------- 253.0/253.0 kB 1.6 MB/s eta 0:00:00\n",
      "Requirement already satisfied: numpy>=1.10.1 in c:\\users\\giriraj roy\\appdata\\local\\programs\\python\\python311\\lib\\site-packages (from -r requirements_package.txt (line 2)) (1.24.2)\n",
      "Collecting webrtcvad>=2.0.10\n",
      "  Downloading webrtcvad-2.0.10.tar.gz (66 kB)\n",
      "     ---------------------------------------- 0.0/66.2 kB ? eta -:--:--\n",
      "     ---------------------------------------- 66.2/66.2 kB ? eta 0:00:00\n",
      "  Preparing metadata (setup.py): started\n",
      "  Preparing metadata (setup.py): finished with status 'done'\n",
      "Requirement already satisfied: torch>=1.0.1 in c:\\users\\giriraj roy\\appdata\\local\\programs\\python\\python311\\lib\\site-packages (from -r requirements_package.txt (line 4)) (2.0.0)\n",
      "Requirement already satisfied: scipy>=1.2.1 in c:\\users\\giriraj roy\\appdata\\local\\programs\\python\\python311\\lib\\site-packages (from -r requirements_package.txt (line 5)) (1.10.1)\n",
      "Collecting typing\n",
      "  Downloading typing-3.7.4.3.tar.gz (78 kB)\n",
      "     ---------------------------------------- 0.0/78.6 kB ? eta -:--:--\n",
      "     --------------- ------------------------ 30.7/78.6 kB ? eta -:--:--\n",
      "     -------------------------------------- 78.6/78.6 kB 876.3 kB/s eta 0:00:00\n",
      "  Preparing metadata (setup.py): started\n",
      "  Preparing metadata (setup.py): finished with status 'done'\n",
      "Collecting audioread>=2.1.9\n",
      "  Downloading audioread-3.0.0.tar.gz (377 kB)\n",
      "     ---------------------------------------- 0.0/377.0 kB ? eta -:--:--\n",
      "     ------------ ------------------------- 122.9/377.0 kB 3.6 MB/s eta 0:00:01\n",
      "     --------------------------- ---------- 276.5/377.0 kB 3.4 MB/s eta 0:00:01\n",
      "     -------------------------------------- 377.0/377.0 kB 2.9 MB/s eta 0:00:00\n",
      "  Preparing metadata (setup.py): started\n",
      "  Preparing metadata (setup.py): finished with status 'done'\n",
      "Requirement already satisfied: scikit-learn>=0.20.0 in c:\\users\\giriraj roy\\appdata\\local\\programs\\python\\python311\\lib\\site-packages (from librosa>=0.9.1->-r requirements_package.txt (line 1)) (1.2.2)\n",
      "Requirement already satisfied: joblib>=0.14 in c:\\users\\giriraj roy\\appdata\\local\\programs\\python\\python311\\lib\\site-packages (from librosa>=0.9.1->-r requirements_package.txt (line 1)) (1.2.0)\n",
      "Requirement already satisfied: decorator>=4.3.0 in c:\\users\\giriraj roy\\appdata\\local\\programs\\python\\python311\\lib\\site-packages (from librosa>=0.9.1->-r requirements_package.txt (line 1)) (5.1.1)\n",
      "Collecting numba>=0.51.0\n",
      "  Downloading numba-0.56.4.tar.gz (2.4 MB)\n",
      "     ---------------------------------------- 0.0/2.4 MB ? eta -:--:--\n",
      "     - -------------------------------------- 0.1/2.4 MB 3.2 MB/s eta 0:00:01\n",
      "     --- ------------------------------------ 0.2/2.4 MB 2.9 MB/s eta 0:00:01\n",
      "     ------ --------------------------------- 0.4/2.4 MB 3.3 MB/s eta 0:00:01\n",
      "     -------- ------------------------------- 0.5/2.4 MB 3.2 MB/s eta 0:00:01\n",
      "     ---------- ----------------------------- 0.6/2.4 MB 3.0 MB/s eta 0:00:01\n",
      "     ----------- ---------------------------- 0.7/2.4 MB 3.1 MB/s eta 0:00:01\n",
      "     ----------- ---------------------------- 0.7/2.4 MB 3.1 MB/s eta 0:00:01\n",
      "     ------------- -------------------------- 0.8/2.4 MB 2.6 MB/s eta 0:00:01\n",
      "     ---------------- ----------------------- 1.0/2.4 MB 2.7 MB/s eta 0:00:01\n",
      "     ------------------ --------------------- 1.1/2.4 MB 2.8 MB/s eta 0:00:01\n",
      "     ------------------- -------------------- 1.2/2.4 MB 2.6 MB/s eta 0:00:01\n",
      "     -------------------- ------------------- 1.3/2.4 MB 2.6 MB/s eta 0:00:01\n",
      "     ---------------------- ----------------- 1.4/2.4 MB 2.5 MB/s eta 0:00:01\n",
      "     ----------------------- ---------------- 1.4/2.4 MB 2.4 MB/s eta 0:00:01\n",
      "     ------------------------ --------------- 1.5/2.4 MB 2.4 MB/s eta 0:00:01\n",
      "     ------------------------- -------------- 1.6/2.4 MB 2.4 MB/s eta 0:00:01\n",
      "     --------------------------- ------------ 1.6/2.4 MB 2.3 MB/s eta 0:00:01\n",
      "     ---------------------------- ----------- 1.7/2.4 MB 2.2 MB/s eta 0:00:01\n",
      "     ----------------------------- ---------- 1.8/2.4 MB 2.2 MB/s eta 0:00:01\n",
      "     ------------------------------ --------- 1.9/2.4 MB 2.2 MB/s eta 0:00:01\n",
      "     -------------------------------- ------- 2.0/2.4 MB 2.1 MB/s eta 0:00:01\n",
      "     -------------------------------- ------- 2.0/2.4 MB 2.1 MB/s eta 0:00:01\n",
      "     ---------------------------------- ----- 2.1/2.4 MB 2.1 MB/s eta 0:00:01\n",
      "     ----------------------------------- ---- 2.2/2.4 MB 2.0 MB/s eta 0:00:01\n",
      "     ------------------------------------ --- 2.2/2.4 MB 2.0 MB/s eta 0:00:01\n",
      "     ------------------------------------- -- 2.3/2.4 MB 2.0 MB/s eta 0:00:01\n",
      "     -------------------------------------- - 2.3/2.4 MB 1.9 MB/s eta 0:00:01\n",
      "     ---------------------------------------  2.4/2.4 MB 1.9 MB/s eta 0:00:01\n",
      "     ---------------------------------------- 2.4/2.4 MB 1.9 MB/s eta 0:00:00\n",
      "  Preparing metadata (setup.py): started\n",
      "  Preparing metadata (setup.py): finished with status 'error'\n"
     ]
    },
    {
     "name": "stderr",
     "output_type": "stream",
     "text": [
      "  error: subprocess-exited-with-error\n",
      "  \n",
      "  python setup.py egg_info did not run successfully.\n",
      "  exit code: 1\n",
      "  \n",
      "  [8 lines of output]\n",
      "  Traceback (most recent call last):\n",
      "    File \"<string>\", line 2, in <module>\n",
      "    File \"<pip-setuptools-caller>\", line 34, in <module>\n",
      "    File \"C:\\Users\\GIRIRAJ ROY\\AppData\\Local\\Temp\\pip-install-m2edzg2e\\numba_288bde3580af4691ae0b1c28fc6af486\\setup.py\", line 51, in <module>\n",
      "      _guard_py_ver()\n",
      "    File \"C:\\Users\\GIRIRAJ ROY\\AppData\\Local\\Temp\\pip-install-m2edzg2e\\numba_288bde3580af4691ae0b1c28fc6af486\\setup.py\", line 48, in _guard_py_ver\n",
      "      raise RuntimeError(msg.format(cur_py, min_py, max_py))\n",
      "  RuntimeError: Cannot install on Python version 3.11.2; only versions >=3.7,<3.11 are supported.\n",
      "  [end of output]\n",
      "  \n",
      "  note: This error originates from a subprocess, and is likely not a problem with pip.\n",
      "error: metadata-generation-failed\n",
      "\n",
      "Encountered error while generating package metadata.\n",
      "\n",
      "See above for output.\n",
      "\n",
      "note: This is an issue with the package mentioned above, not pip.\n",
      "hint: See above for details.\n"
     ]
    }
   ],
   "source": [
    "!pip install -r requirements_package.txt"
   ]
  },
  {
   "cell_type": "code",
   "execution_count": 5,
   "metadata": {
    "colab": {
     "base_uri": "https://localhost:8080/"
    },
    "executionInfo": {
     "elapsed": 4,
     "status": "ok",
     "timestamp": 1644692511862,
     "user": {
      "displayName": "Boktiar Ahmed Bappy",
      "photoUrl": "https://lh3.googleusercontent.com/a-/AOh14Gih6IcON3wMQpvveeS9_REpH6y1XnnZEhx-zhFX=s64",
      "userId": "10381972055342951581"
     },
     "user_tz": -360
    },
    "id": "jCZH-oxTXJWM",
    "outputId": "5ab9b3e1-da70-4283-f92e-3acaf78f2ecd"
   },
   "outputs": [
    {
     "name": "stdout",
     "output_type": "stream",
     "text": [
      "C:\\Users\\GIRIRAJ ROY\\Desktop\\Diarization\\Resemblyzer\\Resemblyzer\n"
     ]
    }
   ],
   "source": [
    "%cd Resemblyzer"
   ]
  },
  {
   "cell_type": "code",
   "execution_count": 6,
   "metadata": {
    "colab": {
     "base_uri": "https://localhost:8080/"
    },
    "executionInfo": {
     "elapsed": 5132,
     "status": "ok",
     "timestamp": 1644692520689,
     "user": {
      "displayName": "Boktiar Ahmed Bappy",
      "photoUrl": "https://lh3.googleusercontent.com/a-/AOh14Gih6IcON3wMQpvveeS9_REpH6y1XnnZEhx-zhFX=s64",
      "userId": "10381972055342951581"
     },
     "user_tz": -360
    },
    "id": "46xw-qK_W0fv",
    "outputId": "c5edaead-0ae0-4988-9c76-e261f0d515f3"
   },
   "outputs": [
    {
     "name": "stderr",
     "output_type": "stream",
     "text": [
      "ERROR: Could not open requirements file: [Errno 2] No such file or directory: 'requirements_demos.txt'\n"
     ]
    }
   ],
   "source": [
    "!pip install -r requirements_demos.txt"
   ]
  },
  {
   "cell_type": "code",
   "execution_count": 7,
   "metadata": {
    "colab": {
     "base_uri": "https://localhost:8080/"
    },
    "executionInfo": {
     "elapsed": 5192,
     "status": "ok",
     "timestamp": 1644692526561,
     "user": {
      "displayName": "Boktiar Ahmed Bappy",
      "photoUrl": "https://lh3.googleusercontent.com/a-/AOh14Gih6IcON3wMQpvveeS9_REpH6y1XnnZEhx-zhFX=s64",
      "userId": "10381972055342951581"
     },
     "user_tz": -360
    },
    "id": "k3HZ78z3W54V",
    "outputId": "ed7ecf24-f711-4c52-e3b1-4e23169ed5d7"
   },
   "outputs": [
    {
     "name": "stdout",
     "output_type": "stream",
     "text": [
      "Obtaining file:///C:/Users/GIRIRAJ%20ROY/Desktop/Diarization/Resemblyzer/resemblyzer\n"
     ]
    },
    {
     "name": "stderr",
     "output_type": "stream",
     "text": [
      "ERROR: file:///C:/Users/GIRIRAJ%20ROY/Desktop/Diarization/Resemblyzer/resemblyzer does not appear to be a Python project: neither 'setup.py' nor 'pyproject.toml' found.\n"
     ]
    }
   ],
   "source": [
    "!pip install -e ."
   ]
  },
  {
   "cell_type": "code",
   "execution_count": 8,
   "metadata": {
    "colab": {
     "base_uri": "https://localhost:8080/"
    },
    "executionInfo": {
     "elapsed": 31290,
     "status": "ok",
     "timestamp": 1644692580558,
     "user": {
      "displayName": "Boktiar Ahmed Bappy",
      "photoUrl": "https://lh3.googleusercontent.com/a-/AOh14Gih6IcON3wMQpvveeS9_REpH6y1XnnZEhx-zhFX=s64",
      "userId": "10381972055342951581"
     },
     "user_tz": -360
    },
    "id": "zODUADrrUzOR",
    "outputId": "c8f53b24-da98-41d3-c5b4-0ac7b50f3e26"
   },
   "outputs": [
    {
     "ename": "ModuleNotFoundError",
     "evalue": "No module named 'resemblyzer'",
     "output_type": "error",
     "traceback": [
      "\u001b[1;31m---------------------------------------------------------------------------\u001b[0m",
      "\u001b[1;31mModuleNotFoundError\u001b[0m                       Traceback (most recent call last)",
      "Cell \u001b[1;32mIn[8], line 1\u001b[0m\n\u001b[1;32m----> 1\u001b[0m \u001b[38;5;28;01mfrom\u001b[39;00m \u001b[38;5;21;01mresemblyzer\u001b[39;00m \u001b[38;5;28;01mimport\u001b[39;00m preprocess_wav, VoiceEncoder\n\u001b[0;32m      2\u001b[0m \u001b[38;5;28;01mfrom\u001b[39;00m \u001b[38;5;21;01mpathlib\u001b[39;00m \u001b[38;5;28;01mimport\u001b[39;00m Path\n\u001b[0;32m      4\u001b[0m \u001b[38;5;66;03m#give the file path to your audio file\u001b[39;00m\n",
      "\u001b[1;31mModuleNotFoundError\u001b[0m: No module named 'resemblyzer'"
     ]
    }
   ],
   "source": [
    "from resemblyzer import preprocess_wav, VoiceEncoder\n",
    "from pathlib import Path\n",
    "\n",
    "#give the file path to your audio file\n",
    "audio_file_path = '/content/conv1.wav'\n",
    "wav_fpath = Path(audio_file_path)\n",
    "\n",
    "wav = preprocess_wav(wav_fpath)\n",
    "encoder = VoiceEncoder(\"cpu\")\n",
    "_, cont_embeds, wav_splits = encoder.embed_utterance(wav, return_partials=True, rate=16)\n",
    "print(cont_embeds.shape)"
   ]
  },
  {
   "cell_type": "code",
   "execution_count": null,
   "metadata": {
    "colab": {
     "base_uri": "https://localhost:8080/"
    },
    "executionInfo": {
     "elapsed": 380,
     "status": "ok",
     "timestamp": 1644692585886,
     "user": {
      "displayName": "Boktiar Ahmed Bappy",
      "photoUrl": "https://lh3.googleusercontent.com/a-/AOh14Gih6IcON3wMQpvveeS9_REpH6y1XnnZEhx-zhFX=s64",
      "userId": "10381972055342951581"
     },
     "user_tz": -360
    },
    "id": "MA4VzN1KWY9m",
    "outputId": "d4c4de30-1399-44dd-e6b5-1a19ad30f042"
   },
   "outputs": [],
   "source": [
    "wav.shape"
   ]
  },
  {
   "cell_type": "code",
   "execution_count": null,
   "metadata": {
    "colab": {
     "base_uri": "https://localhost:8080/"
    },
    "executionInfo": {
     "elapsed": 6,
     "status": "ok",
     "timestamp": 1644692587085,
     "user": {
      "displayName": "Boktiar Ahmed Bappy",
      "photoUrl": "https://lh3.googleusercontent.com/a-/AOh14Gih6IcON3wMQpvveeS9_REpH6y1XnnZEhx-zhFX=s64",
      "userId": "10381972055342951581"
     },
     "user_tz": -360
    },
    "id": "6HkSbptGY-gU",
    "outputId": "6930ac99-bddd-45a1-af08-a897d99abb37"
   },
   "outputs": [],
   "source": [
    "cont_embeds.shape\n"
   ]
  },
  {
   "cell_type": "code",
   "execution_count": null,
   "metadata": {
    "colab": {
     "base_uri": "https://localhost:8080/"
    },
    "executionInfo": {
     "elapsed": 380,
     "status": "ok",
     "timestamp": 1644692590042,
     "user": {
      "displayName": "Boktiar Ahmed Bappy",
      "photoUrl": "https://lh3.googleusercontent.com/a-/AOh14Gih6IcON3wMQpvveeS9_REpH6y1XnnZEhx-zhFX=s64",
      "userId": "10381972055342951581"
     },
     "user_tz": -360
    },
    "id": "xvEhJeQaZdfi",
    "outputId": "905d3744-940b-4d2b-95d7-b00b8d0bb620"
   },
   "outputs": [],
   "source": [
    "wav_splits[2]"
   ]
  },
  {
   "cell_type": "markdown",
   "metadata": {
    "id": "ZVeEuYzreDBc"
   },
   "source": [
    "#Note:\n",
    "Sometimes the module might throw an error when you try to use an audio file having file extension different from wav, like mp3. In this case, you might need to convert your mp3 file to wav before using. You can use the below script (you will need to install pydub first)"
   ]
  },
  {
   "cell_type": "code",
   "execution_count": null,
   "metadata": {
    "id": "aomMgCZZb6Ti"
   },
   "outputs": [],
   "source": [
    "\n",
    "# from pydub import AudioSegment\n",
    "\n",
    "# def mp3_to_wav(audio_file_path):\n",
    "#     sound = AudioSegment.from_mp3(audio_file_path)\n",
    "#     audio_file_path = audio_file_path.split('.')[0] + '.wav'\n",
    "#     sound.export(audio_file_path, format=\"wav\")\n",
    "#     return audio_file_path\n",
    "\n",
    "# audio_file_path = mp3_to_wav(audio_file_path)\n"
   ]
  },
  {
   "cell_type": "code",
   "execution_count": null,
   "metadata": {
    "colab": {
     "base_uri": "https://localhost:8080/"
    },
    "executionInfo": {
     "elapsed": 2733,
     "status": "ok",
     "timestamp": 1644692597856,
     "user": {
      "displayName": "Boktiar Ahmed Bappy",
      "photoUrl": "https://lh3.googleusercontent.com/a-/AOh14Gih6IcON3wMQpvveeS9_REpH6y1XnnZEhx-zhFX=s64",
      "userId": "10381972055342951581"
     },
     "user_tz": -360
    },
    "id": "mYCzCDUweNN0",
    "outputId": "695c45c5-79c8-4820-e107-a9bfc1d9128f"
   },
   "outputs": [],
   "source": [
    "!pip install spectralcluster"
   ]
  },
  {
   "cell_type": "code",
   "execution_count": null,
   "metadata": {
    "executionInfo": {
     "elapsed": 23975,
     "status": "ok",
     "timestamp": 1644692625316,
     "user": {
      "displayName": "Boktiar Ahmed Bappy",
      "photoUrl": "https://lh3.googleusercontent.com/a-/AOh14Gih6IcON3wMQpvveeS9_REpH6y1XnnZEhx-zhFX=s64",
      "userId": "10381972055342951581"
     },
     "user_tz": -360
    },
    "id": "lawxiUXhefv9"
   },
   "outputs": [],
   "source": [
    "from spectralcluster import SpectralClusterer\n",
    "\n",
    "clusterer = SpectralClusterer(\n",
    "    min_clusters=2,\n",
    "    max_clusters=100,\n",
    "    )\n",
    "\n",
    "labels = clusterer.predict(cont_embeds)"
   ]
  },
  {
   "cell_type": "code",
   "execution_count": null,
   "metadata": {
    "colab": {
     "base_uri": "https://localhost:8080/"
    },
    "executionInfo": {
     "elapsed": 9,
     "status": "ok",
     "timestamp": 1644692626777,
     "user": {
      "displayName": "Boktiar Ahmed Bappy",
      "photoUrl": "https://lh3.googleusercontent.com/a-/AOh14Gih6IcON3wMQpvveeS9_REpH6y1XnnZEhx-zhFX=s64",
      "userId": "10381972055342951581"
     },
     "user_tz": -360
    },
    "id": "QghRR1d9etTu",
    "outputId": "6e36803a-6910-4522-9e78-209ea29ee935"
   },
   "outputs": [],
   "source": [
    "labels.shape"
   ]
  },
  {
   "cell_type": "code",
   "execution_count": null,
   "metadata": {
    "colab": {
     "base_uri": "https://localhost:8080/"
    },
    "executionInfo": {
     "elapsed": 504,
     "status": "ok",
     "timestamp": 1644692629868,
     "user": {
      "displayName": "Boktiar Ahmed Bappy",
      "photoUrl": "https://lh3.googleusercontent.com/a-/AOh14Gih6IcON3wMQpvveeS9_REpH6y1XnnZEhx-zhFX=s64",
      "userId": "10381972055342951581"
     },
     "user_tz": -360
    },
    "id": "MPNfU7v_zeEV",
    "outputId": "ee4d1844-038c-42ab-f210-d5c51a889817"
   },
   "outputs": [],
   "source": [
    "import numpy as np\n",
    "np.unique(labels)\n"
   ]
  },
  {
   "cell_type": "code",
   "execution_count": null,
   "metadata": {
    "executionInfo": {
     "elapsed": 561,
     "status": "ok",
     "timestamp": 1644692632849,
     "user": {
      "displayName": "Boktiar Ahmed Bappy",
      "photoUrl": "https://lh3.googleusercontent.com/a-/AOh14Gih6IcON3wMQpvveeS9_REpH6y1XnnZEhx-zhFX=s64",
      "userId": "10381972055342951581"
     },
     "user_tz": -360
    },
    "id": "DCW69vFmgS0U"
   },
   "outputs": [],
   "source": [
    "\n",
    "def create_labelling(labels,wav_splits):\n",
    "    from resemblyzer import sampling_rate\n",
    "    times = [((s.start + s.stop) / 2) / sampling_rate for s in wav_splits]\n",
    "    labelling = []\n",
    "    start_time = 0\n",
    "\n",
    "    for i,time in enumerate(times):\n",
    "        if i>0 and labels[i]!=labels[i-1]:\n",
    "            temp = [str(labels[i-1]),start_time,time]\n",
    "            labelling.append(tuple(temp))\n",
    "            start_time = time\n",
    "        if i==len(times)-1:\n",
    "            temp = [str(labels[i]),start_time,time]\n",
    "            labelling.append(tuple(temp))\n",
    "\n",
    "    return labelling\n",
    "  \n",
    "labelling = create_labelling(labels,wav_splits)"
   ]
  },
  {
   "cell_type": "code",
   "execution_count": null,
   "metadata": {
    "colab": {
     "base_uri": "https://localhost:8080/"
    },
    "executionInfo": {
     "elapsed": 380,
     "status": "ok",
     "timestamp": 1644692635500,
     "user": {
      "displayName": "Boktiar Ahmed Bappy",
      "photoUrl": "https://lh3.googleusercontent.com/a-/AOh14Gih6IcON3wMQpvveeS9_REpH6y1XnnZEhx-zhFX=s64",
      "userId": "10381972055342951581"
     },
     "user_tz": -360
    },
    "id": "bERTjJs5gqFc",
    "outputId": "1b45d7de-b06e-4927-fc1a-fa2fa5d82fbb"
   },
   "outputs": [],
   "source": [
    "labelling"
   ]
  },
  {
   "cell_type": "code",
   "execution_count": null,
   "metadata": {
    "colab": {
     "base_uri": "https://localhost:8080/"
    },
    "executionInfo": {
     "elapsed": 374,
     "status": "ok",
     "timestamp": 1644692638221,
     "user": {
      "displayName": "Boktiar Ahmed Bappy",
      "photoUrl": "https://lh3.googleusercontent.com/a-/AOh14Gih6IcON3wMQpvveeS9_REpH6y1XnnZEhx-zhFX=s64",
      "userId": "10381972055342951581"
     },
     "user_tz": -360
    },
    "id": "3lG0Lf7A4qcB",
    "outputId": "30c9cf1a-2057-476e-8163-0e0bc407c38a"
   },
   "outputs": [],
   "source": [
    "len(labelling)"
   ]
  },
  {
   "cell_type": "code",
   "execution_count": null,
   "metadata": {
    "colab": {
     "base_uri": "https://localhost:8080/"
    },
    "executionInfo": {
     "elapsed": 6,
     "status": "ok",
     "timestamp": 1644692639568,
     "user": {
      "displayName": "Boktiar Ahmed Bappy",
      "photoUrl": "https://lh3.googleusercontent.com/a-/AOh14Gih6IcON3wMQpvveeS9_REpH6y1XnnZEhx-zhFX=s64",
      "userId": "10381972055342951581"
     },
     "user_tz": -360
    },
    "id": "uNGHqeBonQJa",
    "outputId": "d8906273-73c8-4509-ab45-1a6ded085a2b"
   },
   "outputs": [],
   "source": [
    "cd .."
   ]
  },
  {
   "cell_type": "code",
   "execution_count": null,
   "metadata": {
    "colab": {
     "base_uri": "https://localhost:8080/"
    },
    "executionInfo": {
     "elapsed": 410,
     "status": "ok",
     "timestamp": 1644692646409,
     "user": {
      "displayName": "Boktiar Ahmed Bappy",
      "photoUrl": "https://lh3.googleusercontent.com/a-/AOh14Gih6IcON3wMQpvveeS9_REpH6y1XnnZEhx-zhFX=s64",
      "userId": "10381972055342951581"
     },
     "user_tz": -360
    },
    "id": "Kk9d6gV21guF",
    "outputId": "4f5b2453-8d03-4b5a-a7e0-32479fc12f14"
   },
   "outputs": [],
   "source": [
    "ls"
   ]
  },
  {
   "cell_type": "code",
   "execution_count": null,
   "metadata": {
    "colab": {
     "base_uri": "https://localhost:8080/"
    },
    "executionInfo": {
     "elapsed": 6892,
     "status": "ok",
     "timestamp": 1644692676037,
     "user": {
      "displayName": "Boktiar Ahmed Bappy",
      "photoUrl": "https://lh3.googleusercontent.com/a-/AOh14Gih6IcON3wMQpvveeS9_REpH6y1XnnZEhx-zhFX=s64",
      "userId": "10381972055342951581"
     },
     "user_tz": -360
    },
    "id": "S9APHIFMzj3l",
    "outputId": "fb68089e-d25d-46d1-9715-fc582339ccaf"
   },
   "outputs": [],
   "source": [
    "import os\n",
    "c = 1\n",
    "for i in labelling:\n",
    "  os.system(f\"ffmpeg -i conv1.wav -ss {i[1]} -t {i[2]} -acodec copy Audio/{c}.wav\")\n",
    "  print('done')\n",
    "  c = c + 1"
   ]
  },
  {
   "cell_type": "code",
   "execution_count": null,
   "metadata": {
    "id": "_dxUA5_gzj1E"
   },
   "outputs": [],
   "source": [
    "!rm -rf Audio/*"
   ]
  },
  {
   "cell_type": "code",
   "execution_count": null,
   "metadata": {
    "id": "k267lfdogrzi"
   },
   "outputs": [],
   "source": [
    "# !ffmpeg -i conv1.wav -ss 0 -t 5.78 -acodec copy output.wav"
   ]
  },
  {
   "cell_type": "code",
   "execution_count": null,
   "metadata": {
    "colab": {
     "base_uri": "https://localhost:8080/"
    },
    "executionInfo": {
     "elapsed": 388,
     "status": "ok",
     "timestamp": 1644692683986,
     "user": {
      "displayName": "Boktiar Ahmed Bappy",
      "photoUrl": "https://lh3.googleusercontent.com/a-/AOh14Gih6IcON3wMQpvveeS9_REpH6y1XnnZEhx-zhFX=s64",
      "userId": "10381972055342951581"
     },
     "user_tz": -360
    },
    "id": "-OUvm81GzFWq",
    "outputId": "0d7657ce-bf0f-4065-a534-b70d54ad17c2"
   },
   "outputs": [],
   "source": [
    "len(os.listdir(\"Audio\"))"
   ]
  },
  {
   "cell_type": "code",
   "execution_count": null,
   "metadata": {
    "colab": {
     "base_uri": "https://localhost:8080/"
    },
    "executionInfo": {
     "elapsed": 8184,
     "status": "ok",
     "timestamp": 1644692695529,
     "user": {
      "displayName": "Boktiar Ahmed Bappy",
      "photoUrl": "https://lh3.googleusercontent.com/a-/AOh14Gih6IcON3wMQpvveeS9_REpH6y1XnnZEhx-zhFX=s64",
      "userId": "10381972055342951581"
     },
     "user_tz": -360
    },
    "id": "pQijONoj5je8",
    "outputId": "f7ae862b-d24a-4b07-aa3b-0264a09d9348"
   },
   "outputs": [],
   "source": [
    "!pip install SpeechRecognition\n",
    "!pip install pydub\n"
   ]
  },
  {
   "cell_type": "code",
   "execution_count": null,
   "metadata": {
    "colab": {
     "base_uri": "https://localhost:8080/",
     "height": 75,
     "output_embedded_package_id": "1bb_N0QQrP0K7O2kM9wHotivyZOok2O2i"
    },
    "executionInfo": {
     "elapsed": 12094,
     "status": "ok",
     "timestamp": 1644692836661,
     "user": {
      "displayName": "Boktiar Ahmed Bappy",
      "photoUrl": "https://lh3.googleusercontent.com/a-/AOh14Gih6IcON3wMQpvveeS9_REpH6y1XnnZEhx-zhFX=s64",
      "userId": "10381972055342951581"
     },
     "user_tz": -360
    },
    "id": "mtsOJC-09X-j",
    "outputId": "3e9882d6-a468-463b-fb64-b76bb8d7d412"
   },
   "outputs": [],
   "source": [
    "from IPython.display import Audio\n",
    "Audio(\"/content/conv1.wav\",autoplay=True)"
   ]
  },
  {
   "cell_type": "code",
   "execution_count": null,
   "metadata": {
    "colab": {
     "base_uri": "https://localhost:8080/",
     "height": 626
    },
    "executionInfo": {
     "elapsed": 71021,
     "status": "error",
     "timestamp": 1644692983682,
     "user": {
      "displayName": "Boktiar Ahmed Bappy",
      "photoUrl": "https://lh3.googleusercontent.com/a-/AOh14Gih6IcON3wMQpvveeS9_REpH6y1XnnZEhx-zhFX=s64",
      "userId": "10381972055342951581"
     },
     "user_tz": -360
    },
    "id": "TKOe1w321R-w",
    "outputId": "b206ea39-40dc-4312-e497-bdb9c3f0b0e2"
   },
   "outputs": [],
   "source": [
    "import speech_recognition as sr\n",
    "# from playsound import playsound\n",
    "import time\n",
    "r = sr.Recognizer()\n",
    "\n",
    "for i in range(len(labelling)):\n",
    "  Audio(f\"Audio/{i+1}.wav\",autoplay=True)\n",
    "  time.sleep(1)\n",
    "\n",
    "  hellow=sr.AudioFile(f'Audio/{i+1}.wav')\n",
    "  with hellow as source:\n",
    "      audio = r.record(source)\n",
    "  try:\n",
    "      s = r.recognize_google(audio)\n",
    "      print(f\"Speaker {labelling[i][0]}: {s}\")\n",
    "  except Exception as e:\n",
    "      print(\"Exception: \"+str(e))"
   ]
  },
  {
   "cell_type": "code",
   "execution_count": null,
   "metadata": {
    "executionInfo": {
     "elapsed": 386,
     "status": "ok",
     "timestamp": 1644692989387,
     "user": {
      "displayName": "Boktiar Ahmed Bappy",
      "photoUrl": "https://lh3.googleusercontent.com/a-/AOh14Gih6IcON3wMQpvveeS9_REpH6y1XnnZEhx-zhFX=s64",
      "userId": "10381972055342951581"
     },
     "user_tz": -360
    },
    "id": "_bJzrEttFNGO"
   },
   "outputs": [],
   "source": [
    "import IPython\n",
    "import matplotlib.pyplot as plt\n",
    "import numpy as np\n",
    "import librosa\n",
    "\n",
    "def play_audio(name):\n",
    "  an4_audio = name\n",
    "  sr = 16000\n",
    "  signal, sr = librosa.load(an4_audio,sr=sr) \n",
    "\n",
    "  fig,ax = plt.subplots(1,1)\n",
    "  fig.set_figwidth(20)\n",
    "  fig.set_figheight(2)\n",
    "  plt.plot(np.arange(len(signal)),signal,'gray')\n",
    "  fig.suptitle('Reference merged an4 audio', fontsize=16)\n",
    "  plt.xlabel('time (secs)', fontsize=18)\n",
    "  ax.margins(x=0)\n",
    "  plt.ylabel('signal strength', fontsize=16);\n",
    "  a,_ = plt.xticks();plt.xticks(a,a/sr);\n",
    "\n",
    "  IPython.display.Audio(an4_audio,autoplay=True)"
   ]
  },
  {
   "cell_type": "code",
   "execution_count": null,
   "metadata": {
    "colab": {
     "base_uri": "https://localhost:8080/",
     "height": 1000
    },
    "executionInfo": {
     "elapsed": 6553,
     "status": "ok",
     "timestamp": 1644693005119,
     "user": {
      "displayName": "Boktiar Ahmed Bappy",
      "photoUrl": "https://lh3.googleusercontent.com/a-/AOh14Gih6IcON3wMQpvveeS9_REpH6y1XnnZEhx-zhFX=s64",
      "userId": "10381972055342951581"
     },
     "user_tz": -360
    },
    "id": "VoBVuwtCFTfk",
    "outputId": "c04d6f19-d62f-4b45-ad66-81a798d661e6"
   },
   "outputs": [],
   "source": [
    "for i in range(1,10):\n",
    "  play_audio(f\"Audio/{i}.wav\")"
   ]
  },
  {
   "cell_type": "code",
   "execution_count": null,
   "metadata": {
    "id": "SngXOxNgGGb9"
   },
   "outputs": [],
   "source": []
  }
 ],
 "metadata": {
  "accelerator": "GPU",
  "colab": {
   "authorship_tag": "ABX9TyO5M0R7yE3VP6qDriu1po9I",
   "collapsed_sections": [],
   "name": "Speaker Diarization with LSTM.ipynb",
   "provenance": []
  },
  "kernelspec": {
   "display_name": "Python 3 (ipykernel)",
   "language": "python",
   "name": "python3"
  },
  "language_info": {
   "codemirror_mode": {
    "name": "ipython",
    "version": 3
   },
   "file_extension": ".py",
   "mimetype": "text/x-python",
   "name": "python",
   "nbconvert_exporter": "python",
   "pygments_lexer": "ipython3",
   "version": "3.11.2"
  }
 },
 "nbformat": 4,
 "nbformat_minor": 1
}
